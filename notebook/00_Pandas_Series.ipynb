{
 "cells": [
  {
   "cell_type": "markdown",
   "metadata": {},
   "source": [
    "# What is Pandas Series\n",
    "\n",
    "Pandas Series là một mảng một chiều chứa các kiểu dữ liệu khác nhau (integer, string, float, python object, ...)\n",
    "Chúng ta có thể chuyển đổi từ kiểu dữ liệu list, tuple, dict thành Series bằng phương thức Series(). \n",
    "\n",
    "Trong Pandas Series, các phần tử được đánh nhãn bởi một dòng được gọi là bởi index. \n",
    "\n",
    "# Constructor\n",
    "Constructor Syntax:\n",
    "\n",
    "Pandas.series(data,index,dtype,copy)\n",
    "\n",
    "- data: Chứa dữ liệu ndarray, list, các hằng số, ...\n",
    "- index: Nhãn tên các giá trị trong series. Index là duy nhất.\n",
    "- dtype: Là kiểu dữ liệu\n",
    "- copy: Đối tượng để sao chép sang đối tượng series mới.\n",
    "\n"
   ]
  },
  {
   "cell_type": "code",
   "execution_count": 1,
   "metadata": {},
   "outputs": [],
   "source": [
    "# Create series from array\n",
    "import pandas as pd\n",
    "import numpy as np\n"
   ]
  },
  {
   "cell_type": "code",
   "execution_count": 2,
   "metadata": {},
   "outputs": [
    {
     "name": "stdout",
     "output_type": "stream",
     "text": [
      "Series([], dtype: float64)\n"
     ]
    }
   ],
   "source": [
    "# Create empty sereies\n",
    "empty  = pd.Series()\n",
    "print(empty)"
   ]
  },
  {
   "cell_type": "code",
   "execution_count": null,
   "metadata": {},
   "outputs": [],
   "source": [
    "\n",
    "# create a numpy array\n",
    "data = np.array(['python', 'php', 'java', '.net', 'kotlin'])\n",
    "\n",
    "series = pd.Series(data)\n",
    "\n",
    "print(series)"
   ]
  },
  {
   "cell_type": "code",
   "execution_count": 3,
   "metadata": {},
   "outputs": [
    {
     "name": "stdout",
     "output_type": "stream",
     "text": [
      "pl1    python\n",
      "pl2       php\n",
      "pl3      java\n",
      "pl4      .net\n",
      "pl5    kotlin\n",
      "dtype: object\n"
     ]
    }
   ],
   "source": [
    "# create series with customs index name \n",
    "\n",
    "series2 = pd.Series(data=data, index=['pl1', 'pl2', 'pl3', 'pl4', 'pl5'])\n",
    "\n",
    "print(series2)"
   ]
  },
  {
   "cell_type": "code",
   "execution_count": 7,
   "metadata": {},
   "outputs": [
    {
     "name": "stdout",
     "output_type": "stream",
     "text": [
      "python    2000\n",
      "java      3000\n",
      ".net      1000\n",
      "dtype: int64\n"
     ]
    }
   ],
   "source": [
    "# Create Serries using Dict\n",
    "salary_data = {'python' : 2000, 'java' : 3000, '.net' : 1000}\n",
    "\n",
    "salary = pd.Series(salary_data)\n",
    "\n",
    "print(salary)\n"
   ]
  },
  {
   "cell_type": "markdown",
   "metadata": {},
   "source": [
    "Như ví dụ trên, key của các phần tử trong dict sẽ biến thành nhãn của dòng dữ liệu, value của phần tử là giá trị của Series."
   ]
  },
  {
   "cell_type": "code",
   "execution_count": 12,
   "metadata": {},
   "outputs": [
    {
     "name": "stdout",
     "output_type": "stream",
     "text": [
      "max_python   NaN\n",
      "max_java     NaN\n",
      "max_.net     NaN\n",
      "dtype: float64\n"
     ]
    }
   ],
   "source": [
    "salary_data = {'python' : 2000, 'java' : 3000, '.net' : 1000}\n",
    "max_salary = pd.Series(salary_data, index=['max_python', 'max_java', 'max_.net'])\n",
    "\n",
    "print(max_salary)\n"
   ]
  },
  {
   "cell_type": "code",
   "execution_count": 14,
   "metadata": {},
   "outputs": [
    {
     "name": "stdout",
     "output_type": "stream",
     "text": [
      "0        oracle\n",
      "1         mysql\n",
      "2           psg\n",
      "3    sql server\n",
      "dtype: object\n"
     ]
    }
   ],
   "source": [
    "# Create series using List\n",
    "list_dbms = ['oracle', 'mysql', 'psg', 'sql server']\n",
    "dbms = pd.Series(data=list_dbms)\n",
    "print(dbms)"
   ]
  },
  {
   "cell_type": "code",
   "execution_count": 15,
   "metadata": {},
   "outputs": [
    {
     "name": "stdout",
     "output_type": "stream",
     "text": [
      "db1        oracle\n",
      "db2         mysql\n",
      "db3           psg\n",
      "db4    sql server\n",
      "dtype: object\n"
     ]
    }
   ],
   "source": [
    "dbms_2 = pd.Series(data=list_dbms, index=['db1', 'db2', 'db3', 'db4'])\n",
    "\n",
    "print(dbms_2)"
   ]
  },
  {
   "cell_type": "code",
   "execution_count": 3,
   "metadata": {},
   "outputs": [
    {
     "name": "stdout",
     "output_type": "stream",
     "text": [
      "   courses   fees\n",
      "0    Spark  22000\n",
      "1  PySpark  25000\n",
      "2   Hadoop  23000\n"
     ]
    }
   ],
   "source": [
    "# convert series to dataframe\n",
    "courses = pd.Series([\"Spark\",\"PySpark\",\"Hadoop\"], name='courses')\n",
    "fees = pd.Series([22000,25000,23000], name='fees')\n",
    "df=pd.concat([courses,fees],axis=1)\n",
    "print(df)"
   ]
  },
  {
   "cell_type": "code",
   "execution_count": 4,
   "metadata": {},
   "outputs": [
    {
     "name": "stdout",
     "output_type": "stream",
     "text": [
      "0    Python\n",
      "1       PHP\n",
      "2      Java\n",
      "Name: Courses, dtype: object\n",
      "<class 'pandas.core.series.Series'>\n"
     ]
    }
   ],
   "source": [
    "# Create DataFrame with single column\n",
    "data =  [\"Python\",\"PHP\",\"Java\"]\n",
    "df = pd.DataFrame(data, columns = ['Courses'])\n",
    "my_series = df.squeeze()\n",
    "print(my_series)\n",
    "print (type(my_series))"
   ]
  },
  {
   "cell_type": "code",
   "execution_count": 6,
   "metadata": {},
   "outputs": [
    {
     "name": "stdout",
     "output_type": "stream",
     "text": [
      "   Courses Duration    Fee\n",
      "0    Spark  30 days  20000\n",
      "1  PySpark  40 days  25000\n",
      "2   Python  50 days  26000\n",
      "<class 'pandas.core.frame.DataFrame'>\n",
      "0    20000\n",
      "1    25000\n",
      "2    26000\n",
      "Name: Fee, dtype: int64\n"
     ]
    }
   ],
   "source": [
    "# Create DataFrame with multiple columns\n",
    "import pandas as pd\n",
    "data = {'Courses': ['Spark', 'PySpark', 'Python'],\n",
    "        'Duration':['30 days', '40 days', '50 days'],\n",
    "        'Fee':[20000, 25000, 26000]\n",
    "        }\n",
    "df = pd.DataFrame(data, columns = ['Courses', 'Duration', 'Fee'])\n",
    "print(df)\n",
    "print (type(df))\n",
    "\n",
    "# convert Fee column into a series\n",
    "my_series= df['Fee'].squeeze()\n",
    "print(my_series)"
   ]
  },
  {
   "cell_type": "code",
   "execution_count": null,
   "metadata": {},
   "outputs": [],
   "source": []
  }
 ],
 "metadata": {
  "kernelspec": {
   "display_name": "Python 3",
   "language": "python",
   "name": "python3"
  },
  "language_info": {
   "codemirror_mode": {
    "name": "ipython",
    "version": 3
   },
   "file_extension": ".py",
   "mimetype": "text/x-python",
   "name": "python",
   "nbconvert_exporter": "python",
   "pygments_lexer": "ipython3",
   "version": "3.6.8"
  }
 },
 "nbformat": 4,
 "nbformat_minor": 2
}
